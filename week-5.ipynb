{
 "cells": [
  {
   "cell_type": "code",
   "execution_count": 9,
   "id": "f8b9ff30",
   "metadata": {},
   "outputs": [
    {
     "name": "stdout",
     "output_type": "stream",
     "text": [
      "This is the first function. I am going to multiply -6 and -3\n",
      "and the result of this multiplication is = 18\n"
     ]
    }
   ],
   "source": [
    "#a non-returning function example\n",
    "def multiplier(a,b): # function header\n",
    "    print(f\"This is the first function. I am going to multiply {a} and {b}\") # function body\n",
    "    print(f\"and the result of this multiplication is = {a * b}\") # function body\n",
    "\n",
    "multiplier(-6, -3) # function call\n",
    " \n"
   ]
  },
  {
   "cell_type": "code",
   "execution_count": 10,
   "id": "efb56854",
   "metadata": {},
   "outputs": [
    {
     "name": "stdout",
     "output_type": "stream",
     "text": [
      "I am going to multiply -6 and -3\n",
      "the result of this multiplication is = 18\n"
     ]
    }
   ],
   "source": [
    "#a returning function example\n",
    "def multiplier(a,b): # function header\n",
    "    \"\"\"In this amazing function, I will multiply two numbers and return the result\"\"\"\n",
    "    print(f\"I am going to multiply {a} and {b}\") # function body\n",
    "    return a * b  # function body (returning value)\n",
    "\n",
    "result = multiplier(-6, -3) # function call\n",
    "print(f\"the result of this multiplication is = {result}\")\n",
    "\n",
    " \n"
   ]
  },
  {
   "cell_type": "code",
   "execution_count": 11,
   "id": "e3c3bf92",
   "metadata": {},
   "outputs": [
    {
     "name": "stdout",
     "output_type": "stream",
     "text": [
      "This is the main function\n",
      "I am now going to call a different function\n",
      "I am going to multiply 2 and 3\n",
      "6\n"
     ]
    }
   ],
   "source": [
    "def main():\n",
    "    print(\"This is the main function\")\n",
    "    print(\"I am now going to call a different function\")\n",
    "    print(multiplier(2, 3))\n",
    "    \n",
    "main()"
   ]
  },
  {
   "cell_type": "code",
   "execution_count": 22,
   "id": "2b7e3fce",
   "metadata": {},
   "outputs": [
    {
     "name": "stdout",
     "output_type": "stream",
     "text": [
      "As we are inside this function, the value variable is 88\n",
      "** Before changing, n is 88\n",
      "** After changing, n is 42\n",
      "Back inside the main function, the value variable is still 88\n"
     ]
    }
   ],
   "source": [
    "def change_number(n):\n",
    "    print(f\"** Before changing, n is {n}\")\n",
    "    n = 42\n",
    "    print(f\"** After changing, n is {n}\")\n",
    "    \n",
    "\n",
    "def my_main_function():\n",
    "    value = 88\n",
    "    print(f\"As we are inside this function, the value variable is {value}\")\n",
    "    change_number(value)\n",
    "    print(f\"Back inside the main function, the value variable is still {value}\")\n",
    "    \n",
    "    \n",
    "my_main_function()\n",
    "\n",
    "\n"
   ]
  },
  {
   "cell_type": "code",
   "execution_count": 30,
   "id": "033997f5",
   "metadata": {},
   "outputs": [
    {
     "name": "stdout",
     "output_type": "stream",
     "text": [
      "Inside the function, x is 99\n",
      "Inside the function, y is 88\n",
      "Outside the function, x is 99\n",
      "--------------------------------------------------------------------\n",
      "Inside the function, x is 42\n",
      "Inside the function, y is 30\n",
      "++++++++++++++++++++++++++++++++++++++++++++++++++++++++++++++++++++++\n",
      "Outside the function, x is 99\n"
     ]
    }
   ],
   "source": [
    "# Glogabl vs Local variables\n",
    "x = 99  # global variable   \n",
    "\n",
    "def my_function():\n",
    "    y = 88  # local variable\n",
    "    print(f\"Inside the function, x is {x}\")  # accessing global variable\n",
    "    print(f\"Inside the function, y is {y}\")  # accessing local variable     \n",
    "    \n",
    "    \n",
    "my_function()\n",
    "print(f\"Outside the function, x is {x}\")  # accessing global variable\n",
    "\n",
    "print(\"--------------------------------------------------------------------\")\n",
    "def my_new_function():\n",
    "    y = 30    # modify the local variable\n",
    "    x = 42    # modify the global variable\n",
    "    print(f\"Inside the function, x is {x}\")  # accessing modified global variable\n",
    "    print(f\"Inside the function, y is {y}\")  # accessing local variable\n",
    "    \n",
    "my_new_function()\n",
    "print(\"++++++++++++++++++++++++++++++++++++++++++++++++++++++++++++++++++++++\")\n",
    "print(f\"Outside the function, x is {x}\")  # accessing global variable\n",
    "\n"
   ]
  },
  {
   "cell_type": "code",
   "execution_count": null,
   "id": "0e5e74e0",
   "metadata": {},
   "outputs": [
    {
     "name": "stdout",
     "output_type": "stream",
     "text": [
      "Hello, William. How are you doing today?\n"
     ]
    }
   ],
   "source": [
    "def my_greeting_function(name):\n",
    "    \"\"\"This function greets to the person passed in as a parameter\"\"\"\n",
    "    print(f\"Hello, {name}. How are you doing today?\")\n",
    "    \n",
    "    \n",
    "my_greeting_function(\"William\")\n",
    "\n"
   ]
  },
  {
   "cell_type": "code",
   "execution_count": 88,
   "id": "7abf8cb2",
   "metadata": {},
   "outputs": [
    {
     "name": "stdout",
     "output_type": "stream",
     "text": [
      "The random number is 5\n"
     ]
    }
   ],
   "source": [
    "# random number generator example   \n",
    "from random import randint\n",
    "\n",
    "number = randint(1, 10)\n",
    "print(f\"The random number is {number}\")"
   ]
  },
  {
   "cell_type": "code",
   "execution_count": 134,
   "id": "e8bb490b",
   "metadata": {},
   "outputs": [
    {
     "name": "stdout",
     "output_type": "stream",
     "text": [
      "The random number is 4\n"
     ]
    }
   ],
   "source": [
    "# random number generator example   \n",
    "import random\n",
    "from random import randint\n",
    "random.seed(111)  # setting the seed for reproducibility\n",
    "number = randint(1, 10)\n",
    "print(f\"The random number is {number}\")"
   ]
  },
  {
   "cell_type": "code",
   "execution_count": null,
   "id": "296f9a56",
   "metadata": {},
   "outputs": [
    {
     "name": "stdout",
     "output_type": "stream",
     "text": [
      "Fail\n",
      "Pass\n"
     ]
    }
   ],
   "source": [
    "# Returning pass or fail (a boolean function example)\n",
    "\n",
    "def pass_or_fail(grade):\n",
    "    \"\"\"This function checks if the grade is a pass or fail\"\"\"\n",
    "    if grade >= 50:\n",
    "        return \"Pass\"\n",
    "    else:\n",
    "        return \"Fail\"\n",
    "    \n",
    "    \n",
    "print(pass_or_fail(45))\n",
    "print(pass_or_fail(75))"
   ]
  },
  {
   "cell_type": "code",
   "execution_count": null,
   "id": "9c9f9f33",
   "metadata": {},
   "outputs": [
    {
     "name": "stdout",
     "output_type": "stream",
     "text": [
      "(15, 5, 50, 2.0)\n"
     ]
    }
   ],
   "source": [
    "def calculator(a, b):\n",
    "    addition = a + b\n",
    "    subtraction = a - b\n",
    "    multiplication = a * b\n",
    "    division = a / b\n",
    "    return addition, subtraction, multiplication, division\n",
    "\n",
    "result = calculator(10, 5)\n",
    "print(result)\n",
    "    "
   ]
  },
  {
   "cell_type": "code",
   "execution_count": null,
   "id": "3afbab51",
   "metadata": {},
   "outputs": [
    {
     "name": "stdout",
     "output_type": "stream",
     "text": [
      "27.0\n",
      "9.0\n",
      "(13.0, 113.0)\n"
     ]
    }
   ],
   "source": [
    "import math\n",
    "\n",
    "def raise_to_power(base, exponent=2):\n",
    "    \"\"\"This function raises the base to the power of exponent. Default exponent is 2.\"\"\"\n",
    "    return math.pow(base, exponent)\n",
    "\n",
    "\n",
    "print(raise_to_power(3,3))\n",
    "\n",
    "print(raise_to_power(3))  \n",
    "\n",
    "\n",
    "\n",
    "def tax_calculator(amount, tax_rate=0.13):\n",
    "    \"\"\"This function calculates the tax on the given amount. Default tax rate is 0.13% as we are in Canada.\"\"\"\n",
    "    tax = amount * tax_rate\n",
    "    total_amount = amount + tax\n",
    "    return tax, total_amount\n",
    "\n",
    "print(tax_calculator(100))"
   ]
  }
 ],
 "metadata": {
  "kernelspec": {
   "display_name": "PA-Venv",
   "language": "python",
   "name": "python3"
  },
  "language_info": {
   "codemirror_mode": {
    "name": "ipython",
    "version": 3
   },
   "file_extension": ".py",
   "mimetype": "text/x-python",
   "name": "python",
   "nbconvert_exporter": "python",
   "pygments_lexer": "ipython3",
   "version": "3.13.5"
  }
 },
 "nbformat": 4,
 "nbformat_minor": 5
}
