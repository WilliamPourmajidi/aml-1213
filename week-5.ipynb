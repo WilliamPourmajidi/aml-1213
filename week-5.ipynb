{
 "cells": [
  {
   "cell_type": "code",
   "execution_count": 9,
   "id": "f8b9ff30",
   "metadata": {},
   "outputs": [
    {
     "name": "stdout",
     "output_type": "stream",
     "text": [
      "This is the first function. I am going to multiply -6 and -3\n",
      "and the result of this multiplication is = 18\n"
     ]
    }
   ],
   "source": [
    "#a non-returning function example\n",
    "def multiplier(a,b): # function header\n",
    "    print(f\"This is the first function. I am going to multiply {a} and {b}\") # function body\n",
    "    print(f\"and the result of this multiplication is = {a * b}\") # function body\n",
    "\n",
    "multiplier(-6, -3) # function call\n",
    " \n"
   ]
  },
  {
   "cell_type": "code",
   "execution_count": 10,
   "id": "efb56854",
   "metadata": {},
   "outputs": [
    {
     "name": "stdout",
     "output_type": "stream",
     "text": [
      "I am going to multiply -6 and -3\n",
      "the result of this multiplication is = 18\n"
     ]
    }
   ],
   "source": [
    "#a returning function example\n",
    "def multiplier(a,b): # function header\n",
    "    \"\"\"In this amazing function, I will multiply two numbers and return the result\"\"\"\n",
    "    print(f\"I am going to multiply {a} and {b}\") # function body\n",
    "    return a * b  # function body (returning value)\n",
    "\n",
    "result = multiplier(-6, -3) # function call\n",
    "print(f\"the result of this multiplication is = {result}\")\n",
    "\n",
    " \n"
   ]
  },
  {
   "cell_type": "code",
   "execution_count": 11,
   "id": "e3c3bf92",
   "metadata": {},
   "outputs": [
    {
     "name": "stdout",
     "output_type": "stream",
     "text": [
      "This is the main function\n",
      "I am now going to call a different function\n",
      "I am going to multiply 2 and 3\n",
      "6\n"
     ]
    }
   ],
   "source": [
    "def main():\n",
    "    print(\"This is the main function\")\n",
    "    print(\"I am now going to call a different function\")\n",
    "    print(multiplier(2, 3))\n",
    "    \n",
    "main()"
   ]
  },
  {
   "cell_type": "code",
   "execution_count": 22,
   "id": "2b7e3fce",
   "metadata": {},
   "outputs": [
    {
     "name": "stdout",
     "output_type": "stream",
     "text": [
      "As we are inside this function, the value variable is 88\n",
      "** Before changing, n is 88\n",
      "** After changing, n is 42\n",
      "Back inside the main function, the value variable is still 88\n"
     ]
    }
   ],
   "source": [
    "def change_number(n):\n",
    "    print(f\"** Before changing, n is {n}\")\n",
    "    n = 42\n",
    "    print(f\"** After changing, n is {n}\")\n",
    "    \n",
    "\n",
    "def my_main_function():\n",
    "    value = 88\n",
    "    print(f\"As we are inside this function, the value variable is {value}\")\n",
    "    change_number(value)\n",
    "    print(f\"Back inside the main function, the value variable is still {value}\")\n",
    "    \n",
    "    \n",
    "my_main_function()\n",
    "\n",
    "\n"
   ]
  },
  {
   "cell_type": "code",
   "execution_count": 30,
   "id": "033997f5",
   "metadata": {},
   "outputs": [
    {
     "name": "stdout",
     "output_type": "stream",
     "text": [
      "Inside the function, x is 99\n",
      "Inside the function, y is 88\n",
      "Outside the function, x is 99\n",
      "--------------------------------------------------------------------\n",
      "Inside the function, x is 42\n",
      "Inside the function, y is 30\n",
      "++++++++++++++++++++++++++++++++++++++++++++++++++++++++++++++++++++++\n",
      "Outside the function, x is 99\n"
     ]
    }
   ],
   "source": [
    "# Glogabl vs Local variables\n",
    "x = 99  # global variable   \n",
    "\n",
    "def my_function():\n",
    "    y = 88  # local variable\n",
    "    print(f\"Inside the function, x is {x}\")  # accessing global variable\n",
    "    print(f\"Inside the function, y is {y}\")  # accessing local variable     \n",
    "    \n",
    "    \n",
    "my_function()\n",
    "print(f\"Outside the function, x is {x}\")  # accessing global variable\n",
    "\n",
    "print(\"--------------------------------------------------------------------\")\n",
    "def my_new_function():\n",
    "    y = 30    # modify the local variable\n",
    "    x = 42    # modify the global variable\n",
    "    print(f\"Inside the function, x is {x}\")  # accessing modified global variable\n",
    "    print(f\"Inside the function, y is {y}\")  # accessing local variable\n",
    "    \n",
    "my_new_function()\n",
    "print(\"++++++++++++++++++++++++++++++++++++++++++++++++++++++++++++++++++++++\")\n",
    "print(f\"Outside the function, x is {x}\")  # accessing global variable\n",
    "\n"
   ]
  },
  {
   "cell_type": "code",
   "execution_count": null,
   "id": "0e5e74e0",
   "metadata": {},
   "outputs": [
    {
     "name": "stdout",
     "output_type": "stream",
     "text": [
      "Hello, William. How are you doing today?\n"
     ]
    }
   ],
   "source": [
    "def my_greeting_function(name):\n",
    "    \"\"\"This function greets to the person passed in as a parameter\"\"\"\n",
    "    print(f\"Hello, {name}. How are you doing today?\")\n",
    "    \n",
    "    \n",
    "my_greeting_function(\"William\")\n",
    "\n"
   ]
  },
  {
   "cell_type": "code",
   "execution_count": 88,
   "id": "7abf8cb2",
   "metadata": {},
   "outputs": [
    {
     "name": "stdout",
     "output_type": "stream",
     "text": [
      "The random number is 5\n"
     ]
    }
   ],
   "source": [
    "# random number generator example   \n",
    "from random import randint\n",
    "\n",
    "number = randint(1, 10)\n",
    "print(f\"The random number is {number}\")"
   ]
  },
  {
   "cell_type": "code",
   "execution_count": 134,
   "id": "e8bb490b",
   "metadata": {},
   "outputs": [
    {
     "name": "stdout",
     "output_type": "stream",
     "text": [
      "The random number is 4\n"
     ]
    }
   ],
   "source": [
    "# random number generator example   \n",
    "import random\n",
    "from random import randint\n",
    "random.seed(111)  # setting the seed for reproducibility\n",
    "number = randint(1, 10)\n",
    "print(f\"The random number is {number}\")"
   ]
  },
  {
   "cell_type": "code",
   "execution_count": null,
   "id": "296f9a56",
   "metadata": {},
   "outputs": [
    {
     "name": "stdout",
     "output_type": "stream",
     "text": [
      "Fail\n",
      "Pass\n"
     ]
    }
   ],
   "source": [
    "# Returning pass or fail (a boolean function example)\n",
    "\n",
    "def pass_or_fail(grade):\n",
    "    \"\"\"This function checks if the grade is a pass or fail\"\"\"\n",
    "    if grade >= 50:\n",
    "        return \"Pass\"\n",
    "    else:\n",
    "        return \"Fail\"\n",
    "    \n",
    "    \n",
    "print(pass_or_fail(45))\n",
    "print(pass_or_fail(75))"
   ]
  },
  {
   "cell_type": "code",
   "execution_count": null,
   "id": "9c9f9f33",
   "metadata": {},
   "outputs": [
    {
     "name": "stdout",
     "output_type": "stream",
     "text": [
      "(15, 5, 50, 2.0)\n"
     ]
    }
   ],
   "source": [
    "def calculator(a, b):\n",
    "    addition = a + b\n",
    "    subtraction = a - b\n",
    "    multiplication = a * b\n",
    "    division = a / b\n",
    "    return addition, subtraction, multiplication, division\n",
    "\n",
    "result = calculator(10, 5)\n",
    "print(result)\n",
    "    "
   ]
  },
  {
   "cell_type": "code",
   "execution_count": null,
   "id": "3afbab51",
   "metadata": {},
   "outputs": [
    {
     "name": "stdout",
     "output_type": "stream",
     "text": [
      "27.0\n",
      "9.0\n",
      "(13.0, 113.0)\n"
     ]
    }
   ],
   "source": [
    "import math\n",
    "\n",
    "def raise_to_power(base, exponent=2):\n",
    "    \"\"\"This function raises the base to the power of exponent. Default exponent is 2.\"\"\"\n",
    "    return math.pow(base, exponent)\n",
    "\n",
    "\n",
    "print(raise_to_power(3,3))\n",
    "\n",
    "print(raise_to_power(3))  \n",
    "\n",
    "\n",
    "\n",
    "def tax_calculator(amount, tax_rate=0.13):\n",
    "    \"\"\"This function calculates the tax on the given amount. Default tax rate is 0.13% as we are in Canada.\"\"\"\n",
    "    tax = amount * tax_rate\n",
    "    total_amount = amount + tax\n",
    "    return tax, total_amount\n",
    "\n",
    "print(tax_calculator(100))"
   ]
  },
  {
   "cell_type": "markdown",
   "id": "207718e7",
   "metadata": {},
   "source": [
    "up to here"
   ]
  },
  {
   "cell_type": "markdown",
   "id": "5c6f01d2",
   "metadata": {},
   "source": [
    "## In-Class Practice: Functions, Scope, Randomness\n",
    "\n",
    "Goals\n",
    "- Write non-returning and returning functions\n",
    "- Understand local vs global scope and parameter passing\n",
    "- Use default parameters and multiple return values\n",
    "- Generate reproducible random numbers with seeding\n",
    "\n",
    "Instructions\n",
    "- Work through Exercises 1–5 in order.\n",
    "- For each exercise, write your code in the provided cell and then run the quick tests cell right after it.\n",
    "- If a test fails, read the error and fix your code until all tests pass.\n",
    "- Keep your function names and parameter names exactly as specified.\n"
   ]
  },
  {
   "cell_type": "markdown",
   "id": "f5036377",
   "metadata": {},
   "source": [
    "### Exercise 1 — greet(name)\n",
    "\n",
    "Write a returning function greet(name) that returns the string:\n",
    "- Hello, <name>. How are you doing today?\n",
    "\n",
    "Do not print inside the function; just return the string.\n"
   ]
  },
  {
   "cell_type": "code",
   "execution_count": null,
   "id": "3be1f243",
   "metadata": {},
   "outputs": [],
   "source": [
    "# TODO: Implement greet(name)\n",
    "# Return the exact string: \"Hello, <name>. How are you doing today?\"\n",
    "\n",
    "def greet(name):\n",
    "    # your code here\n",
    "    return f\"Hello, {name}. How are you doing today?\"  # replace if you want to try yourself first\n"
   ]
  },
  {
   "cell_type": "code",
   "execution_count": null,
   "id": "1d26b105",
   "metadata": {},
   "outputs": [],
   "source": [
    "# Quick tests for Exercise 1\n",
    "assert greet(\"William\") == \"Hello, William. How are you doing today?\"\n",
    "assert greet(\"Ada\") == \"Hello, Ada. How are you doing today?\"\n",
    "print(\"Exercise 1 — All tests passed!\")"
   ]
  },
  {
   "cell_type": "markdown",
   "id": "b99bd565",
   "metadata": {},
   "source": [
    "### Exercise 2 — area_of_rectangle(width, height)\n",
    "\n",
    "Write a returning function area_of_rectangle(width, height) that returns the area as width * height.\n",
    "- Assume both inputs are numbers.\n",
    "- Do not print; just return the numeric area.\n"
   ]
  },
  {
   "cell_type": "code",
   "execution_count": null,
   "id": "23c2ae42",
   "metadata": {},
   "outputs": [],
   "source": [
    "# TODO: Implement area_of_rectangle(width, height)\n",
    "\n",
    "def area_of_rectangle(width, height):\n",
    "    # your code here\n",
    "    return width * height  # replace if you want to try yourself first\n"
   ]
  },
  {
   "cell_type": "code",
   "execution_count": null,
   "id": "060687cf",
   "metadata": {},
   "outputs": [],
   "source": [
    "# Quick tests for Exercise 2\n",
    "assert area_of_rectangle(3, 4) == 12\n",
    "assert area_of_rectangle(10, 0.5) == 5\n",
    "print(\"Exercise 2 — All tests passed!\")"
   ]
  },
  {
   "cell_type": "markdown",
   "id": "670ac7fe",
   "metadata": {},
   "source": [
    "### Exercise 3 — Changing values: by value vs by return\n",
    "\n",
    "Write two functions to see the difference between changing a parameter inside a function and actually changing a value in the caller:\n",
    "\n",
    "1) change_without_return(n): inside the function set n = 42 and print inside the function, then return nothing.\n",
    "2) change_with_return(n): inside the function set n = 42 and return n.\n",
    "\n",
    "Then in a main-like cell:\n",
    "- Set x = 88\n",
    "- Call change_without_return(x) and print x after the call (it should still be 88)\n",
    "- Set x = change_with_return(x) and print x after the call (it should now be 42)\n"
   ]
  },
  {
   "cell_type": "code",
   "execution_count": null,
   "id": "dde527fc",
   "metadata": {},
   "outputs": [],
   "source": [
    "# TODO: Implement change_without_return and change_with_return\n",
    "\n",
    "def change_without_return(n):\n",
    "    # set n to 42 inside and print, but don't return\n",
    "    n = 42\n",
    "    print(f\"Inside change_without_return, n = {n}\")\n",
    "\n",
    "\n",
    "def change_with_return(n):\n",
    "    # set n to 42 and return the new value\n",
    "    n = 42\n",
    "    return n\n",
    "\n",
    "# main-like demo\n",
    "x = 88\n",
    "change_without_return(x)\n",
    "print(f\"After change_without_return, x = {x}\")  # should be 88\n",
    "x = change_with_return(x)\n",
    "print(f\"After change_with_return, x = {x}\")      # should be 42\n"
   ]
  },
  {
   "cell_type": "markdown",
   "id": "142a52e9",
   "metadata": {},
   "source": [
    "### Exercise 4 — roll_die(sides=6) with seeding\n",
    "\n",
    "Write a function roll_die(sides=6) that returns a random integer between 1 and sides (inclusive).\n",
    "- Use from random import randint inside your solution cell.\n",
    "- Add an optional reproducibility step in tests using random.seed.\n"
   ]
  },
  {
   "cell_type": "code",
   "execution_count": null,
   "id": "47ddbaed",
   "metadata": {},
   "outputs": [],
   "source": [
    "# TODO: Implement roll_die(sides=6)\n",
    "from random import randint\n",
    "\n",
    "def roll_die(sides=6):\n",
    "    # return a random int in [1, sides]\n",
    "    return randint(1, sides)\n"
   ]
  },
  {
   "cell_type": "code",
   "execution_count": null,
   "id": "03c13a12",
   "metadata": {},
   "outputs": [],
   "source": [
    "# Quick tests for Exercise 4\n",
    "import random\n",
    "random.seed(111)\n",
    "vals = [roll_die() for _ in range(5)]\n",
    "assert all(1 <= v <= 6 for v in vals)\n",
    "# With seed 111 and randint(1,6) the first five values should be deterministic\n",
    "assert vals == [6, 1, 4, 4, 2]\n",
    "print(\"Exercise 4 — All tests passed!\")"
   ]
  },
  {
   "cell_type": "markdown",
   "id": "27d08334",
   "metadata": {},
   "source": [
    "### Exercise 5 — circle_metrics(radius, pi=3.14159)\n",
    "\n",
    "Write a function circle_metrics(radius, pi=3.14159) that returns two values: (circumference, area)\n",
    "- circumference = 2 * pi * radius\n",
    "- area = pi * radius**2\n",
    "- Use the default pi unless another value is passed.\n"
   ]
  },
  {
   "cell_type": "code",
   "execution_count": null,
   "id": "0854ff67",
   "metadata": {},
   "outputs": [],
   "source": [
    "# TODO: Implement circle_metrics(radius, pi=3.14159)\n",
    "\n",
    "def circle_metrics(radius, pi=3.14159):\n",
    "    # your code here\n",
    "    circumference = 2 * pi * radius\n",
    "    area = pi * (radius ** 2)\n",
    "    return circumference, area\n"
   ]
  },
  {
   "cell_type": "code",
   "execution_count": null,
   "id": "6bb20c8a",
   "metadata": {},
   "outputs": [],
   "source": [
    "# Quick tests for Exercise 5\n",
    "from math import isclose\n",
    "c, a = circle_metrics(1)\n",
    "assert isclose(c, 2*3.14159*1, rel_tol=1e-9)\n",
    "assert isclose(a, 3.14159*1**2, rel_tol=1e-9)\n",
    "\n",
    "c2, a2 = circle_metrics(2, pi=3.14)\n",
    "assert isclose(c2, 2*3.14*2, rel_tol=1e-9)\n",
    "assert isclose(a2, 3.14*4, rel_tol=1e-9)\n",
    "print(\"Exercise 5 — All tests passed!\")"
   ]
  }
 ],
 "metadata": {
  "kernelspec": {
   "display_name": "PA-Venv",
   "language": "python",
   "name": "python3"
  },
  "language_info": {
   "codemirror_mode": {
    "name": "ipython",
    "version": 3
   },
   "file_extension": ".py",
   "mimetype": "text/x-python",
   "name": "python",
   "nbconvert_exporter": "python",
   "pygments_lexer": "ipython3",
   "version": "3.13.5"
  }
 },
 "nbformat": 4,
 "nbformat_minor": 5
}
